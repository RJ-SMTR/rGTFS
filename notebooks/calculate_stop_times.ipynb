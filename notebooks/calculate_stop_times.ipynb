{
 "cells": [
  {
   "cell_type": "code",
   "execution_count": 1,
   "id": "underlying-wrong",
   "metadata": {},
   "outputs": [
    {
     "name": "stderr",
     "output_type": "stream",
     "text": [
      "/usr/local/lib/python3.9/site-packages/geopandas/_compat.py:106: UserWarning: The Shapely GEOS version (3.9.1-CAPI-1.14.2) is incompatible with the GEOS version PyGEOS was compiled with (3.9.0-CAPI-1.16.2). Conversions between both will be slow.\n",
      "  warnings.warn(\n"
     ]
    }
   ],
   "source": [
    "import gtfs_kit as gk\n",
    "import pandas as pd\n",
    "import datetime\n",
    "from copy import deepcopy"
   ]
  },
  {
   "cell_type": "code",
   "execution_count": 2,
   "id": "strange-austria",
   "metadata": {},
   "outputs": [],
   "source": [
    "gtfs_path = '../data/raw/gtfs_brt'\n",
    "tempo_ciclo_path = f'../data/raw/gtfs_brt/tempo_ciclo_brt.csv'\n",
    "stop_times_path = '../data/raw/gtfs_brt/stop_times.txt'"
   ]
  },
  {
   "cell_type": "code",
   "execution_count": 3,
   "id": "exempt-yeast",
   "metadata": {},
   "outputs": [],
   "source": [
    "# 1. Generate stop_times simplified\n",
    "\n",
    "tables = ['trips', 'stop_sequences', 'frequencies']\n",
    "\n",
    "gtfs = {table: pd.read_csv(f'../data/raw/gtfs_brt/{table}.txt') for table in tables}\n",
    "all_trip_ids = gtfs['trips'][['route_id', 'direction_id', 'trip_id']]\n",
    "(gtfs['stop_sequences']\n",
    " .merge(all_trip_ids, on=['route_id', 'direction_id'])\n",
    " [['trip_id', 'stop_id', 'stop_sequence']]\n",
    " .assign(departure_time=None)\n",
    " .assign(arrival_time=None) \n",
    " .to_csv(stop_times_path, index=False))"
   ]
  },
  {
   "cell_type": "code",
   "execution_count": 4,
   "id": "pointed-candy",
   "metadata": {},
   "outputs": [],
   "source": [
    "# 2. Calculate stop distances"
   ]
  },
  {
   "cell_type": "code",
   "execution_count": 5,
   "id": "nominated-rally",
   "metadata": {},
   "outputs": [],
   "source": [
    "feed = gk.read_feed(gtfs_path, dist_units='km')\n",
    "stop_times = feed.append_dist_to_stop_times().stop_times"
   ]
  },
  {
   "cell_type": "code",
   "execution_count": 6,
   "id": "historical-plasma",
   "metadata": {},
   "outputs": [],
   "source": [
    "# 3. Calculate time interval between stops"
   ]
  },
  {
   "cell_type": "code",
   "execution_count": 7,
   "id": "honey-local",
   "metadata": {},
   "outputs": [],
   "source": [
    "tempo_ciclo = pd.read_csv(tempo_ciclo_path)\n",
    "tempo_ciclo['trip_id'] = tempo_ciclo.apply(lambda x: '_'.join([str(x['route_id']), str(int(x['direction_id'])), 'U']), 1)\n",
    "\n",
    "stop_times = stop_times.merge(tempo_ciclo[['trip_id', 'tempo_ciclo']], on='trip_id')\n",
    "stop_times['norm_dist'] = stop_times.groupby('trip_id').transform(lambda x: x/x.max())['shape_dist_traveled']\n",
    "stop_times['time_btw_stops'] = stop_times['norm_dist'] * stop_times['tempo_ciclo']\n",
    "stop_times = stop_times.dropna(subset=['time_btw_stops'])"
   ]
  },
  {
   "cell_type": "code",
   "execution_count": 8,
   "id": "informal-china",
   "metadata": {},
   "outputs": [],
   "source": [
    "# 4.Complete stop_times"
   ]
  },
  {
   "cell_type": "code",
   "execution_count": 15,
   "id": "optional-genetics",
   "metadata": {},
   "outputs": [],
   "source": [
    "def add_departure(df):\n",
    "    \n",
    "    departures = []\n",
    "    start_time = df['start_time']\n",
    "\n",
    "    for i, stops in stop_times[stop_times['trip_id'] == df['trip_id']].iterrows():\n",
    "\n",
    "        if stops['stop_sequence'] == 1:\n",
    "\n",
    "            stop_time = start_time\n",
    "\n",
    "        else:\n",
    "\n",
    "            stop_time = start_time + datetime.timedelta(minutes=stops['time_btw_stops'])\n",
    "\n",
    "        departures.append(deepcopy({\n",
    "            'departure_time': deepcopy(stop_time),\n",
    "            'stop_sequence': stops['stop_sequence'],\n",
    "            'stop_id': stops['stop_id']\n",
    "        }))\n",
    "\n",
    "        \n",
    "    return (pd.DataFrame(departures)\n",
    "            .assign(trip_id=df['trip_id'])\n",
    "           )\n"
   ]
  },
  {
   "cell_type": "code",
   "execution_count": 22,
   "id": "hundred-winter",
   "metadata": {
    "collapsed": true,
    "jupyter": {
     "outputs_hidden": true
    },
    "tags": []
   },
   "outputs": [
    {
     "ename": "TypeError",
     "evalue": "strptime() argument 1 must be str, not Timestamp",
     "output_type": "error",
     "traceback": [
      "\u001b[0;31m---------------------------------------------------------------------------\u001b[0m",
      "\u001b[0;31mTypeError\u001b[0m                                 Traceback (most recent call last)",
      "\u001b[0;32m<ipython-input-22-6579d1d074bc>\u001b[0m in \u001b[0;36m<module>\u001b[0;34m\u001b[0m\n\u001b[0;32m----> 1\u001b[0;31m \u001b[0mgtfs\u001b[0m\u001b[0;34m[\u001b[0m\u001b[0;34m'frequencies'\u001b[0m\u001b[0;34m]\u001b[0m\u001b[0;34m[\u001b[0m\u001b[0;34m'start_time'\u001b[0m\u001b[0;34m]\u001b[0m \u001b[0;34m=\u001b[0m \u001b[0mgtfs\u001b[0m\u001b[0;34m[\u001b[0m\u001b[0;34m'frequencies'\u001b[0m\u001b[0;34m]\u001b[0m\u001b[0;34m[\u001b[0m\u001b[0;34m'start_time'\u001b[0m\u001b[0;34m]\u001b[0m\u001b[0;34m.\u001b[0m\u001b[0mapply\u001b[0m\u001b[0;34m(\u001b[0m\u001b[0;32mlambda\u001b[0m \u001b[0mx\u001b[0m\u001b[0;34m:\u001b[0m \u001b[0mdatetime\u001b[0m\u001b[0;34m.\u001b[0m\u001b[0mdatetime\u001b[0m\u001b[0;34m.\u001b[0m\u001b[0mstrptime\u001b[0m\u001b[0;34m(\u001b[0m\u001b[0mx\u001b[0m\u001b[0;34m,\u001b[0m\u001b[0;34m'%H:%M:%S'\u001b[0m\u001b[0;34m)\u001b[0m\u001b[0;34m)\u001b[0m\u001b[0;34m\u001b[0m\u001b[0;34m\u001b[0m\u001b[0m\n\u001b[0m\u001b[1;32m      2\u001b[0m \u001b[0mgtfs\u001b[0m\u001b[0;34m[\u001b[0m\u001b[0;34m'frequencies'\u001b[0m\u001b[0;34m]\u001b[0m\u001b[0;34m[\u001b[0m\u001b[0;34m'end_time'\u001b[0m\u001b[0;34m]\u001b[0m \u001b[0;34m=\u001b[0m \u001b[0mgtfs\u001b[0m\u001b[0;34m[\u001b[0m\u001b[0;34m'frequencies'\u001b[0m\u001b[0;34m]\u001b[0m\u001b[0;34m[\u001b[0m\u001b[0;34m'end_time'\u001b[0m\u001b[0;34m]\u001b[0m\u001b[0;34m.\u001b[0m\u001b[0mapply\u001b[0m\u001b[0;34m(\u001b[0m\u001b[0;32mlambda\u001b[0m \u001b[0mx\u001b[0m\u001b[0;34m:\u001b[0m \u001b[0mdatetime\u001b[0m\u001b[0;34m.\u001b[0m\u001b[0mdatetime\u001b[0m\u001b[0;34m.\u001b[0m\u001b[0mstrptime\u001b[0m\u001b[0;34m(\u001b[0m\u001b[0mx\u001b[0m\u001b[0;34m,\u001b[0m\u001b[0;34m'%H:%M:%S'\u001b[0m\u001b[0;34m)\u001b[0m\u001b[0;34m)\u001b[0m\u001b[0;34m\u001b[0m\u001b[0;34m\u001b[0m\u001b[0m\n",
      "\u001b[0;32m/usr/local/lib/python3.9/site-packages/pandas/core/series.py\u001b[0m in \u001b[0;36mapply\u001b[0;34m(self, func, convert_dtype, args, **kwds)\u001b[0m\n\u001b[1;32m   4210\u001b[0m             \u001b[0;32melse\u001b[0m\u001b[0;34m:\u001b[0m\u001b[0;34m\u001b[0m\u001b[0;34m\u001b[0m\u001b[0m\n\u001b[1;32m   4211\u001b[0m                 \u001b[0mvalues\u001b[0m \u001b[0;34m=\u001b[0m \u001b[0mself\u001b[0m\u001b[0;34m.\u001b[0m\u001b[0mastype\u001b[0m\u001b[0;34m(\u001b[0m\u001b[0mobject\u001b[0m\u001b[0;34m)\u001b[0m\u001b[0;34m.\u001b[0m\u001b[0m_values\u001b[0m\u001b[0;34m\u001b[0m\u001b[0;34m\u001b[0m\u001b[0m\n\u001b[0;32m-> 4212\u001b[0;31m                 \u001b[0mmapped\u001b[0m \u001b[0;34m=\u001b[0m \u001b[0mlib\u001b[0m\u001b[0;34m.\u001b[0m\u001b[0mmap_infer\u001b[0m\u001b[0;34m(\u001b[0m\u001b[0mvalues\u001b[0m\u001b[0;34m,\u001b[0m \u001b[0mf\u001b[0m\u001b[0;34m,\u001b[0m \u001b[0mconvert\u001b[0m\u001b[0;34m=\u001b[0m\u001b[0mconvert_dtype\u001b[0m\u001b[0;34m)\u001b[0m\u001b[0;34m\u001b[0m\u001b[0;34m\u001b[0m\u001b[0m\n\u001b[0m\u001b[1;32m   4213\u001b[0m \u001b[0;34m\u001b[0m\u001b[0m\n\u001b[1;32m   4214\u001b[0m         \u001b[0;32mif\u001b[0m \u001b[0mlen\u001b[0m\u001b[0;34m(\u001b[0m\u001b[0mmapped\u001b[0m\u001b[0;34m)\u001b[0m \u001b[0;32mand\u001b[0m \u001b[0misinstance\u001b[0m\u001b[0;34m(\u001b[0m\u001b[0mmapped\u001b[0m\u001b[0;34m[\u001b[0m\u001b[0;36m0\u001b[0m\u001b[0;34m]\u001b[0m\u001b[0;34m,\u001b[0m \u001b[0mSeries\u001b[0m\u001b[0;34m)\u001b[0m\u001b[0;34m:\u001b[0m\u001b[0;34m\u001b[0m\u001b[0;34m\u001b[0m\u001b[0m\n",
      "\u001b[0;32mpandas/_libs/lib.pyx\u001b[0m in \u001b[0;36mpandas._libs.lib.map_infer\u001b[0;34m()\u001b[0m\n",
      "\u001b[0;32m<ipython-input-22-6579d1d074bc>\u001b[0m in \u001b[0;36m<lambda>\u001b[0;34m(x)\u001b[0m\n\u001b[0;32m----> 1\u001b[0;31m \u001b[0mgtfs\u001b[0m\u001b[0;34m[\u001b[0m\u001b[0;34m'frequencies'\u001b[0m\u001b[0;34m]\u001b[0m\u001b[0;34m[\u001b[0m\u001b[0;34m'start_time'\u001b[0m\u001b[0;34m]\u001b[0m \u001b[0;34m=\u001b[0m \u001b[0mgtfs\u001b[0m\u001b[0;34m[\u001b[0m\u001b[0;34m'frequencies'\u001b[0m\u001b[0;34m]\u001b[0m\u001b[0;34m[\u001b[0m\u001b[0;34m'start_time'\u001b[0m\u001b[0;34m]\u001b[0m\u001b[0;34m.\u001b[0m\u001b[0mapply\u001b[0m\u001b[0;34m(\u001b[0m\u001b[0;32mlambda\u001b[0m \u001b[0mx\u001b[0m\u001b[0;34m:\u001b[0m \u001b[0mdatetime\u001b[0m\u001b[0;34m.\u001b[0m\u001b[0mdatetime\u001b[0m\u001b[0;34m.\u001b[0m\u001b[0mstrptime\u001b[0m\u001b[0;34m(\u001b[0m\u001b[0mx\u001b[0m\u001b[0;34m,\u001b[0m\u001b[0;34m'%H:%M:%S'\u001b[0m\u001b[0;34m)\u001b[0m\u001b[0;34m)\u001b[0m\u001b[0;34m\u001b[0m\u001b[0;34m\u001b[0m\u001b[0m\n\u001b[0m\u001b[1;32m      2\u001b[0m \u001b[0mgtfs\u001b[0m\u001b[0;34m[\u001b[0m\u001b[0;34m'frequencies'\u001b[0m\u001b[0;34m]\u001b[0m\u001b[0;34m[\u001b[0m\u001b[0;34m'end_time'\u001b[0m\u001b[0;34m]\u001b[0m \u001b[0;34m=\u001b[0m \u001b[0mgtfs\u001b[0m\u001b[0;34m[\u001b[0m\u001b[0;34m'frequencies'\u001b[0m\u001b[0;34m]\u001b[0m\u001b[0;34m[\u001b[0m\u001b[0;34m'end_time'\u001b[0m\u001b[0;34m]\u001b[0m\u001b[0;34m.\u001b[0m\u001b[0mapply\u001b[0m\u001b[0;34m(\u001b[0m\u001b[0;32mlambda\u001b[0m \u001b[0mx\u001b[0m\u001b[0;34m:\u001b[0m \u001b[0mdatetime\u001b[0m\u001b[0;34m.\u001b[0m\u001b[0mdatetime\u001b[0m\u001b[0;34m.\u001b[0m\u001b[0mstrptime\u001b[0m\u001b[0;34m(\u001b[0m\u001b[0mx\u001b[0m\u001b[0;34m,\u001b[0m\u001b[0;34m'%H:%M:%S'\u001b[0m\u001b[0;34m)\u001b[0m\u001b[0;34m)\u001b[0m\u001b[0;34m\u001b[0m\u001b[0;34m\u001b[0m\u001b[0m\n",
      "\u001b[0;31mTypeError\u001b[0m: strptime() argument 1 must be str, not Timestamp"
     ]
    }
   ],
   "source": [
    "gtfs['frequencies']['start_time'] = gtfs['frequencies']['start_time'].apply(lambda x: datetime.datetime.strptime(x,'%H:%M:%S'))\n",
    "gtfs['frequencies']['end_time'] = gtfs['frequencies']['end_time'].apply(lambda x: datetime.datetime.strptime(x,'%H:%M:%S'))"
   ]
  },
  {
   "cell_type": "code",
   "execution_count": 20,
   "id": "marine-mission",
   "metadata": {
    "tags": []
   },
   "outputs": [],
   "source": [
    "\n",
    "departures = pd.concat(\n",
    "         gtfs['frequencies'].drop_duplicates(subset=['trip_id'])\n",
    "         .apply(add_departure, 1)\n",
    "         .to_list()\n",
    "        ).reset_index(drop=True)\n",
    "departures['departure_time'] = departures['departure_time'].apply(lambda x: x.strftime('%H:%M:%S'))\n",
    "departures['arrival_time'] = departures['departure_time']\n",
    "departures['stop_sequence'] = departures['stop_sequence'].astype(int)\n",
    "departures[['trip_id', 'arrival_time', 'departure_time', 'stop_id', 'stop_sequence']\n",
    "          ].to_csv(stop_times_path, index=False)"
   ]
  },
  {
   "cell_type": "code",
   "execution_count": 23,
   "id": "fourth-somalia",
   "metadata": {},
   "outputs": [
    {
     "name": "stdout",
     "output_type": "stream",
     "text": [
      "Missing trip_ids:  {'38_1_U', '11_0_U', '11_1_U', '38_0_U', '42A_0_U'}\n"
     ]
    }
   ],
   "source": [
    "trips = set(gtfs['trips']['trip_id'].unique())\n",
    "print('Missing trip_ids: ', trips.difference(set(departures['trip_id'].unique())))"
   ]
  },
  {
   "cell_type": "code",
   "execution_count": null,
   "id": "enclosed-remark",
   "metadata": {},
   "outputs": [],
   "source": [
    "# Validate"
   ]
  },
  {
   "cell_type": "code",
   "execution_count": 24,
   "id": "abroad-mayor",
   "metadata": {},
   "outputs": [],
   "source": [
    "feed = gk.read_feed(gtfs_path, dist_units='km')"
   ]
  },
  {
   "cell_type": "code",
   "execution_count": 25,
   "id": "intended-commons",
   "metadata": {},
   "outputs": [
    {
     "data": {
      "text/html": [
       "<div>\n",
       "<style scoped>\n",
       "    .dataframe tbody tr th:only-of-type {\n",
       "        vertical-align: middle;\n",
       "    }\n",
       "\n",
       "    .dataframe tbody tr th {\n",
       "        vertical-align: top;\n",
       "    }\n",
       "\n",
       "    .dataframe thead th {\n",
       "        text-align: right;\n",
       "    }\n",
       "</style>\n",
       "<table border=\"1\" class=\"dataframe\">\n",
       "  <thead>\n",
       "    <tr style=\"text-align: right;\">\n",
       "      <th></th>\n",
       "      <th>type</th>\n",
       "      <th>message</th>\n",
       "      <th>table</th>\n",
       "      <th>rows</th>\n",
       "    </tr>\n",
       "  </thead>\n",
       "  <tbody>\n",
       "    <tr>\n",
       "      <th>0</th>\n",
       "      <td>warning</td>\n",
       "      <td>Unrecognized column platform_code</td>\n",
       "      <td>stops</td>\n",
       "      <td>[]</td>\n",
       "    </tr>\n",
       "    <tr>\n",
       "      <th>1</th>\n",
       "      <td>warning</td>\n",
       "      <td>Unrecognized column stop_brt</td>\n",
       "      <td>stops</td>\n",
       "      <td>[]</td>\n",
       "    </tr>\n",
       "    <tr>\n",
       "      <th>2</th>\n",
       "      <td>warning</td>\n",
       "      <td>Unrecognized column active</td>\n",
       "      <td>stops</td>\n",
       "      <td>[]</td>\n",
       "    </tr>\n",
       "    <tr>\n",
       "      <th>3</th>\n",
       "      <td>warning</td>\n",
       "      <td>Stop has no stop times</td>\n",
       "      <td>stops</td>\n",
       "      <td>[1, 2, 4, 5, 7, 8, 10, 11, 13, 14, 16, 17, 19,...</td>\n",
       "    </tr>\n",
       "    <tr>\n",
       "      <th>4</th>\n",
       "      <td>warning</td>\n",
       "      <td>Trip has no stop times</td>\n",
       "      <td>trips</td>\n",
       "      <td>[2, 3, 20, 21, 36]</td>\n",
       "    </tr>\n",
       "  </tbody>\n",
       "</table>\n",
       "</div>"
      ],
      "text/plain": [
       "      type                            message  table  \\\n",
       "0  warning  Unrecognized column platform_code  stops   \n",
       "1  warning       Unrecognized column stop_brt  stops   \n",
       "2  warning         Unrecognized column active  stops   \n",
       "3  warning             Stop has no stop times  stops   \n",
       "4  warning             Trip has no stop times  trips   \n",
       "\n",
       "                                                rows  \n",
       "0                                                 []  \n",
       "1                                                 []  \n",
       "2                                                 []  \n",
       "3  [1, 2, 4, 5, 7, 8, 10, 11, 13, 14, 16, 17, 19,...  \n",
       "4                                 [2, 3, 20, 21, 36]  "
      ]
     },
     "execution_count": 25,
     "metadata": {},
     "output_type": "execute_result"
    }
   ],
   "source": [
    "feed.validate()"
   ]
  },
  {
   "cell_type": "code",
   "execution_count": 26,
   "id": "smaller-tension",
   "metadata": {},
   "outputs": [],
   "source": [
    "feed.write('../data/output/gtfs_brt.zip')"
   ]
  },
  {
   "cell_type": "code",
   "execution_count": null,
   "id": "saved-treasury",
   "metadata": {},
   "outputs": [],
   "source": []
  }
 ],
 "metadata": {
  "kernelspec": {
   "display_name": "rGTFS",
   "language": "python",
   "name": "rgtfs"
  },
  "language_info": {
   "codemirror_mode": {
    "name": "ipython",
    "version": 3
   },
   "file_extension": ".py",
   "mimetype": "text/x-python",
   "name": "python",
   "nbconvert_exporter": "python",
   "pygments_lexer": "ipython3",
   "version": "3.9.2"
  }
 },
 "nbformat": 4,
 "nbformat_minor": 5
}
