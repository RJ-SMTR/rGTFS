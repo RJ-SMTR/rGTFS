{
 "cells": [
  {
   "cell_type": "markdown",
   "metadata": {
    "toc": true
   },
   "source": [
    "<h1>Table of Contents<span class=\"tocSkip\"></span></h1>\n",
    "<div class=\"toc\" style=\"margin-top: 1em;\"><ul class=\"toc-item\"><li><span><a href=\"#Dowload-GTFS-tables-from-google-sheets\" data-toc-modified-id=\"Dowload-GTFS-tables-from-google-sheets-1\"><span class=\"toc-item-num\">1&nbsp;&nbsp;</span>Dowload GTFS tables from google sheets</a></span></li><li><span><a href=\"#Generate-stop_times-simplified\" data-toc-modified-id=\"Generate-stop_times-simplified-2\"><span class=\"toc-item-num\">2&nbsp;&nbsp;</span>Generate stop_times simplified</a></span></li><li><span><a href=\"#Calculate-stop-distances\" data-toc-modified-id=\"Calculate-stop-distances-3\"><span class=\"toc-item-num\">3&nbsp;&nbsp;</span>Calculate stop distances</a></span></li><li><span><a href=\"#Calculate-time-interval-between-stops\" data-toc-modified-id=\"Calculate-time-interval-between-stops-4\"><span class=\"toc-item-num\">4&nbsp;&nbsp;</span>Calculate time interval between stops</a></span></li><li><span><a href=\"#Complete-stop_times\" data-toc-modified-id=\"Complete-stop_times-5\"><span class=\"toc-item-num\">5&nbsp;&nbsp;</span>Complete stop_times</a></span></li></ul></div>"
   ]
  },
  {
   "cell_type": "code",
   "execution_count": 315,
   "metadata": {
    "ExecuteTime": {
     "end_time": "2021-06-02T17:39:31.709852Z",
     "start_time": "2021-06-02T17:39:31.578430Z"
    },
    "scrolled": true
   },
   "outputs": [],
   "source": [
    "%reload_ext autoreload\n",
    "%autoreload 2\n",
    "\n",
    "import pandas as pd\n",
    "import datetime\n",
    "from copy import deepcopy\n",
    "from pathlib import Path\n",
    "import folium as f\n",
    "import geopandas as gpd"
   ]
  },
  {
   "cell_type": "code",
   "execution_count": 316,
   "metadata": {
    "ExecuteTime": {
     "end_time": "2021-06-02T17:39:34.349865Z",
     "start_time": "2021-06-02T17:39:34.077236Z"
    },
    "collapsed": true
   },
   "outputs": [],
   "source": [
    "import gtfs_kit as gk"
   ]
  },
  {
   "cell_type": "code",
   "execution_count": 317,
   "metadata": {
    "ExecuteTime": {
     "end_time": "2021-06-02T17:39:36.146885Z",
     "start_time": "2021-06-02T17:39:35.985879Z"
    },
    "collapsed": true
   },
   "outputs": [],
   "source": [
    "gtfs_path = '../data/raw/gtfs_brt'\n",
    "tempo_ciclo_path = f'../data/raw/gtfs_brt/tempo_ciclo_brt.csv'\n",
    "stop_times_path = '../data/raw/gtfs_brt/stop_times.txt'"
   ]
  },
  {
   "cell_type": "markdown",
   "metadata": {},
   "source": [
    "# Dowload GTFS tables from google sheets"
   ]
  },
  {
   "cell_type": "code",
   "execution_count": 318,
   "metadata": {
    "ExecuteTime": {
     "end_time": "2021-06-02T17:39:37.801214Z",
     "start_time": "2021-06-02T17:39:37.658201Z"
    },
    "collapsed": true
   },
   "outputs": [],
   "source": [
    "sheets_url = 'https://docs.google.com/spreadsheets/d/{key}/gviz/tq?tqx=out:csv&sheet={sheet_name}'\n",
    "key = '1_0CaioUIayDCTPDS5KnS9pFpcAgP_7bpkhDyr_Z2stI'\n",
    "sheets = ['agency', 'trips', 'calendar', 'routes', 'stops', 'stop_sequences', \n",
    "          'frequencies', 'shapes']"
   ]
  },
  {
   "cell_type": "code",
   "execution_count": 319,
   "metadata": {
    "ExecuteTime": {
     "end_time": "2021-06-02T17:39:46.062799Z",
     "start_time": "2021-06-02T17:39:39.564725Z"
    },
    "collapsed": true
   },
   "outputs": [],
   "source": [
    "for sheet in sheets:\n",
    "    df = (pd.read_csv(sheets_url.format(key=key, sheet_name=sheet), dtype=str)\n",
    "    .applymap(lambda x: x.replace(',', '.') if isinstance(x, str) else x)\n",
    "    .dropna(how='all', axis=1))\n",
    "    df.to_csv(\n",
    "        Path(gtfs_path) / (sheet + '.txt'), index=False\n",
    "    )"
   ]
  },
  {
   "cell_type": "markdown",
   "metadata": {
    "ExecuteTime": {
     "end_time": "2021-04-16T15:13:08.551069Z",
     "start_time": "2021-04-16T15:13:08.546150Z"
    }
   },
   "source": [
    "# Generate stop_times simplified"
   ]
  },
  {
   "cell_type": "code",
   "execution_count": 320,
   "metadata": {
    "ExecuteTime": {
     "end_time": "2021-06-02T17:39:47.658741Z",
     "start_time": "2021-06-02T17:39:47.477880Z"
    }
   },
   "outputs": [],
   "source": [
    "tables = ['trips', 'stop_sequences', 'frequencies']\n",
    "\n",
    "gtfs = {table: pd.read_csv(f'../data/raw/gtfs_brt/{table}.txt') for table in tables}\n",
    "all_trip_ids = gtfs['trips'][['route_id', 'direction_id', 'trip_id']]\n",
    "\n",
    "(gtfs['stop_sequences'].replace([1,2], [0,1])\n",
    " .merge(all_trip_ids, on=['route_id', 'direction_id'])\n",
    " [['trip_id', 'stop_id', 'stop_sequence']]\n",
    " .assign(departure_time=None)\n",
    " .assign(arrival_time=None) \n",
    " .to_csv(stop_times_path, index=False))"
   ]
  },
  {
   "cell_type": "markdown",
   "metadata": {
    "ExecuteTime": {
     "end_time": "2021-04-16T15:41:49.658343Z",
     "start_time": "2021-04-16T15:41:49.628675Z"
    }
   },
   "source": [
    "# Calculate stop distances"
   ]
  },
  {
   "cell_type": "code",
   "execution_count": 321,
   "metadata": {
    "ExecuteTime": {
     "end_time": "2021-06-02T17:39:49.286939Z",
     "start_time": "2021-06-02T17:39:49.064273Z"
    },
    "scrolled": true
   },
   "outputs": [],
   "source": [
    "feed = gk.read_feed(gtfs_path, dist_units='km')"
   ]
  },
  {
   "cell_type": "code",
   "execution_count": 322,
   "metadata": {
    "ExecuteTime": {
     "end_time": "2021-06-02T17:39:50.864257Z",
     "start_time": "2021-06-02T17:39:50.718124Z"
    }
   },
   "outputs": [
    {
     "name": "stdout",
     "output_type": "stream",
     "text": [
      "Frequencies  set()\n",
      "Stop Times set()\n",
      "Frequencies set()\n"
     ]
    }
   ],
   "source": [
    "print('Frequencies ', get_difference(feed.trips, feed.frequencies, 'trip_id'))\n",
    "print('Stop Times', get_difference(feed.trips, feed.stop_times, 'trip_id'))\n",
    "print('Frequencies', get_difference(feed.trips, feed.frequencies, 'trip_id'))\n",
    "# print('Stop Sequences', get_difference(feed.trips, gtfs['stop_sequences'], 'trip_id'))"
   ]
  },
  {
   "cell_type": "code",
   "execution_count": 323,
   "metadata": {
    "ExecuteTime": {
     "end_time": "2021-06-02T17:39:52.049251Z",
     "start_time": "2021-06-02T17:39:50.867384Z"
    }
   },
   "outputs": [],
   "source": [
    "stop_times = feed.append_dist_to_stop_times().stop_times"
   ]
  },
  {
   "cell_type": "code",
   "execution_count": 324,
   "metadata": {
    "ExecuteTime": {
     "end_time": "2021-06-02T17:39:52.199750Z",
     "start_time": "2021-06-02T17:39:52.052809Z"
    }
   },
   "outputs": [
    {
     "data": {
      "text/plain": [
       "array(['200042A111020001'], dtype=object)"
      ]
     },
     "execution_count": 324,
     "metadata": {},
     "output_type": "execute_result"
    }
   ],
   "source": [
    "stop_times[stop_times['shape_dist_traveled'].isna()]['trip_id'].unique()"
   ]
  },
  {
   "cell_type": "raw",
   "metadata": {
    "ExecuteTime": {
     "end_time": "2021-06-01T14:26:38.322068Z",
     "start_time": "2021-06-01T14:26:37.119950Z"
    },
    "collapsed": true
   },
   "source": [
    "trip_id = \"200042A111020001\"\n",
    "\n",
    "g = feed.build_geometry_by_stop()\n",
    "a = feed.build_geometry_by_shape(use_utm=False)[feed.trips.query(f'trip_id == \"{trip_id}\"')['shape_id'].values[0]]\n",
    "stops = feed.stop_times.query(f'trip_id == \"{trip_id}\"')\n",
    "\n",
    "m = f.Map(location=(-22.814510000000002, -43.24633))\n",
    "\n",
    "for i, row in stops.iterrows():\n",
    "    f.Marker(\n",
    "        location=[g[row['stop_id']].y, g[row['stop_id']].x],\n",
    "        popup=row['stop_sequence']\n",
    "    ).add_to(m)\n",
    "\n",
    "f.GeoJson(gpd.GeoSeries([a]).__geo_interface__).add_to(m)\n",
    "m"
   ]
  },
  {
   "cell_type": "markdown",
   "metadata": {
    "ExecuteTime": {
     "end_time": "2021-04-16T16:05:52.157284Z",
     "start_time": "2021-04-16T16:05:52.153507Z"
    }
   },
   "source": [
    "# Calculate time interval between stops"
   ]
  },
  {
   "cell_type": "code",
   "execution_count": 325,
   "metadata": {
    "ExecuteTime": {
     "end_time": "2021-06-02T17:39:56.805023Z",
     "start_time": "2021-06-02T17:39:56.649172Z"
    }
   },
   "outputs": [],
   "source": [
    "tempo_ciclo = pd.read_csv(tempo_ciclo_path).dropna(subset=['direction_id'])\n",
    "tempo_ciclo = (\n",
    "pd.merge(\n",
    "    gtfs['stop_sequences'][['route_id_old_old', 'route_id']],\n",
    "    tempo_ciclo,\n",
    "    left_on='route_id_old_old', right_on='route_id',)\n",
    ".drop(['route_id_y', 'route_id_old_old'], 1)\n",
    ".rename(columns={'route_id_x': 'route_id'})\n",
    "              )\n"
   ]
  },
  {
   "cell_type": "code",
   "execution_count": 326,
   "metadata": {
    "ExecuteTime": {
     "end_time": "2021-06-02T17:39:59.028079Z",
     "start_time": "2021-06-02T17:39:58.801215Z"
    },
    "collapsed": true
   },
   "outputs": [],
   "source": [
    "tempo_ciclo = pd.merge(\n",
    "    feed.trips.replace([1,2], [0,1])[['route_id', 'direction_id', 'trip_id']],\n",
    "    tempo_ciclo,\n",
    "    on=['route_id', 'direction_id']).drop_duplicates()"
   ]
  },
  {
   "cell_type": "code",
   "execution_count": 327,
   "metadata": {
    "ExecuteTime": {
     "end_time": "2021-06-02T17:40:02.052880Z",
     "start_time": "2021-06-02T17:40:01.811848Z"
    },
    "scrolled": true
   },
   "outputs": [],
   "source": [
    "stop_times = stop_times.merge(tempo_ciclo[['trip_id', 'tempo_ciclo']], on='trip_id')"
   ]
  },
  {
   "cell_type": "code",
   "execution_count": 328,
   "metadata": {
    "ExecuteTime": {
     "end_time": "2021-06-02T17:40:05.416473Z",
     "start_time": "2021-06-02T17:40:04.796975Z"
    }
   },
   "outputs": [],
   "source": [
    "stop_times['norm_dist'] = stop_times.groupby('trip_id').transform(lambda x: x/x.max())['shape_dist_traveled']\n",
    "stop_times['time_btw_stops'] = stop_times['norm_dist'] * stop_times['tempo_ciclo'] / 2\n",
    "stop_times = stop_times.dropna(subset=['time_btw_stops'])"
   ]
  },
  {
   "cell_type": "code",
   "execution_count": 329,
   "metadata": {
    "ExecuteTime": {
     "end_time": "2021-06-02T17:40:08.388764Z",
     "start_time": "2021-06-02T17:40:08.158081Z"
    },
    "collapsed": true
   },
   "outputs": [],
   "source": [
    "def get_difference(df1, df2, column):\n",
    "    \n",
    "    return set(df1[column]).difference(set(df2[column].unique()))"
   ]
  },
  {
   "cell_type": "code",
   "execution_count": 330,
   "metadata": {
    "ExecuteTime": {
     "end_time": "2021-06-02T17:40:11.308954Z",
     "start_time": "2021-06-02T17:40:11.062824Z"
    }
   },
   "outputs": [
    {
     "data": {
      "text/plain": [
       "{'200042A111020001'}"
      ]
     },
     "execution_count": 330,
     "metadata": {},
     "output_type": "execute_result"
    }
   ],
   "source": [
    "get_difference(feed.trips,  stop_times, 'trip_id')"
   ]
  },
  {
   "cell_type": "markdown",
   "metadata": {
    "ExecuteTime": {
     "end_time": "2021-04-16T16:05:36.350443Z",
     "start_time": "2021-04-16T16:05:36.317204Z"
    }
   },
   "source": [
    "# Complete stop_times"
   ]
  },
  {
   "cell_type": "code",
   "execution_count": 331,
   "metadata": {
    "ExecuteTime": {
     "end_time": "2021-06-02T17:43:04.637340Z",
     "start_time": "2021-06-02T17:43:04.518228Z"
    },
    "collapsed": true
   },
   "outputs": [],
   "source": [
    "def add_departure(df):\n",
    "    \n",
    "    departures = []\n",
    "    start_time = pd.Timestamp('2000-01-01 01:00:00')\n",
    "\n",
    "    for i, stops in stop_times[stop_times['trip_id'] == df['trip_id']].iterrows():\n",
    "\n",
    "        if stops['stop_sequence'] == 0:\n",
    "\n",
    "            stop_time = start_time\n",
    "\n",
    "        else:\n",
    "\n",
    "            stop_time = start_time + datetime.timedelta(minutes=stops['time_btw_stops'])\n",
    "\n",
    "        departures.append(deepcopy({\n",
    "            'departure_time': deepcopy(stop_time),\n",
    "            'stop_sequence': stops['stop_sequence'],\n",
    "            'stop_id': stops['stop_id']\n",
    "        }))\n",
    "\n",
    "        \n",
    "    return (pd.DataFrame(departures)\n",
    "            .assign(trip_id=df['trip_id'])\n",
    "           )"
   ]
  },
  {
   "cell_type": "code",
   "execution_count": 332,
   "metadata": {
    "ExecuteTime": {
     "end_time": "2021-06-02T17:43:06.878028Z",
     "start_time": "2021-06-02T17:43:06.689544Z"
    },
    "collapsed": true,
    "jupyter": {
     "outputs_hidden": true
    },
    "tags": []
   },
   "outputs": [],
   "source": [
    "gtfs['frequencies']['start_time'] = gtfs['frequencies']['start_time'].apply(lambda x: datetime.datetime.strptime(x,'%H:%M:%S'))\n",
    "gtfs['frequencies']['end_time'] = gtfs['frequencies']['end_time'].apply(lambda x: datetime.datetime.strptime(x,'%H:%M:%S'))"
   ]
  },
  {
   "cell_type": "code",
   "execution_count": 333,
   "metadata": {
    "ExecuteTime": {
     "end_time": "2021-06-02T17:43:09.194977Z",
     "start_time": "2021-06-02T17:43:08.444685Z"
    },
    "tags": []
   },
   "outputs": [],
   "source": [
    "departures = pd.concat(\n",
    "         gtfs['frequencies']\n",
    "         .drop_duplicates(subset=['trip_id'])\n",
    "         .apply(add_departure, 1)\n",
    "         .to_list()\n",
    "        ).reset_index(drop=True)\n",
    "\n",
    "departures['departure_time'] = departures['departure_time'].apply(lambda x: x.strftime('%H:%M:%S'))\n",
    "departures['arrival_time'] = departures['departure_time']\n",
    "departures['stop_sequence'] = departures['stop_sequence'].astype(int)\n",
    "departures[['trip_id', 'arrival_time', 'departure_time', 'stop_id', 'stop_sequence']\n",
    "          ].to_csv(stop_times_path, index=False)"
   ]
  },
  {
   "cell_type": "code",
   "execution_count": 334,
   "metadata": {
    "ExecuteTime": {
     "end_time": "2021-06-02T17:43:10.995862Z",
     "start_time": "2021-06-02T17:43:10.822466Z"
    }
   },
   "outputs": [
    {
     "data": {
      "text/plain": [
       "set()"
      ]
     },
     "execution_count": 334,
     "metadata": {},
     "output_type": "execute_result"
    }
   ],
   "source": [
    "get_difference(feed.trips, gtfs['frequencies'], 'trip_id')"
   ]
  },
  {
   "cell_type": "code",
   "execution_count": 335,
   "metadata": {
    "ExecuteTime": {
     "end_time": "2021-06-02T17:43:13.007512Z",
     "start_time": "2021-06-02T17:43:12.848598Z"
    }
   },
   "outputs": [
    {
     "name": "stdout",
     "output_type": "stream",
     "text": [
      "Missing trip_ids:  {'200042A111020001'}\n"
     ]
    }
   ],
   "source": [
    "trips = set(gtfs['trips']['trip_id'].unique())\n",
    "print('Missing trip_ids: ', trips.difference(set(departures['trip_id'].unique())))"
   ]
  },
  {
   "cell_type": "code",
   "execution_count": 336,
   "metadata": {
    "ExecuteTime": {
     "end_time": "2021-06-02T17:43:14.685725Z",
     "start_time": "2021-06-02T17:43:14.559466Z"
    },
    "collapsed": true
   },
   "outputs": [],
   "source": [
    "# Validate"
   ]
  },
  {
   "cell_type": "code",
   "execution_count": 337,
   "metadata": {
    "ExecuteTime": {
     "end_time": "2021-06-02T17:43:16.535351Z",
     "start_time": "2021-06-02T17:43:16.153938Z"
    },
    "collapsed": true
   },
   "outputs": [],
   "source": [
    "feed = gk.read_feed(gtfs_path, dist_units='km')"
   ]
  },
  {
   "cell_type": "code",
   "execution_count": 338,
   "metadata": {
    "ExecuteTime": {
     "end_time": "2021-06-02T17:43:18.483659Z",
     "start_time": "2021-06-02T17:43:18.019384Z"
    }
   },
   "outputs": [
    {
     "data": {
      "text/html": [
       "<div>\n",
       "<style scoped>\n",
       "    .dataframe tbody tr th:only-of-type {\n",
       "        vertical-align: middle;\n",
       "    }\n",
       "\n",
       "    .dataframe tbody tr th {\n",
       "        vertical-align: top;\n",
       "    }\n",
       "\n",
       "    .dataframe thead th {\n",
       "        text-align: right;\n",
       "    }\n",
       "</style>\n",
       "<table border=\"1\" class=\"dataframe\">\n",
       "  <thead>\n",
       "    <tr style=\"text-align: right;\">\n",
       "      <th></th>\n",
       "      <th>type</th>\n",
       "      <th>message</th>\n",
       "      <th>table</th>\n",
       "      <th>rows</th>\n",
       "    </tr>\n",
       "  </thead>\n",
       "  <tbody>\n",
       "    <tr>\n",
       "      <th>2</th>\n",
       "      <td>error</td>\n",
       "      <td>Headway periods for the same trip overlap</td>\n",
       "      <td>frequencies</td>\n",
       "      <td>[4]</td>\n",
       "    </tr>\n",
       "    <tr>\n",
       "      <th>3</th>\n",
       "      <td>error</td>\n",
       "      <td>Headway periods for the same trip overlap</td>\n",
       "      <td>frequencies</td>\n",
       "      <td>[0]</td>\n",
       "    </tr>\n",
       "    <tr>\n",
       "      <th>4</th>\n",
       "      <td>error</td>\n",
       "      <td>Headway periods for the same trip overlap</td>\n",
       "      <td>frequencies</td>\n",
       "      <td>[0]</td>\n",
       "    </tr>\n",
       "    <tr>\n",
       "      <th>5</th>\n",
       "      <td>error</td>\n",
       "      <td>Headway periods for the same trip overlap</td>\n",
       "      <td>frequencies</td>\n",
       "      <td>[0]</td>\n",
       "    </tr>\n",
       "    <tr>\n",
       "      <th>0</th>\n",
       "      <td>warning</td>\n",
       "      <td>Unrecognized column old_trip_id</td>\n",
       "      <td>frequencies</td>\n",
       "      <td>[]</td>\n",
       "    </tr>\n",
       "    <tr>\n",
       "      <th>1</th>\n",
       "      <td>warning</td>\n",
       "      <td>Unrecognized column calendar</td>\n",
       "      <td>frequencies</td>\n",
       "      <td>[]</td>\n",
       "    </tr>\n",
       "    <tr>\n",
       "      <th>6</th>\n",
       "      <td>warning</td>\n",
       "      <td>Unrecognized column old_route_id</td>\n",
       "      <td>routes</td>\n",
       "      <td>[]</td>\n",
       "    </tr>\n",
       "    <tr>\n",
       "      <th>7</th>\n",
       "      <td>warning</td>\n",
       "      <td>Unrecognized column old_old_shape_id</td>\n",
       "      <td>shapes</td>\n",
       "      <td>[]</td>\n",
       "    </tr>\n",
       "    <tr>\n",
       "      <th>8</th>\n",
       "      <td>warning</td>\n",
       "      <td>Unrecognized column old_shape_id</td>\n",
       "      <td>shapes</td>\n",
       "      <td>[]</td>\n",
       "    </tr>\n",
       "    <tr>\n",
       "      <th>12</th>\n",
       "      <td>warning</td>\n",
       "      <td>Repeated pair (trip_id, departure_time)</td>\n",
       "      <td>stop_times</td>\n",
       "      <td>[1305, 1306, 1307, 1308, 1309, 1310, 1311, 131...</td>\n",
       "    </tr>\n",
       "    <tr>\n",
       "      <th>9</th>\n",
       "      <td>warning</td>\n",
       "      <td>Unrecognized column corridor</td>\n",
       "      <td>stops</td>\n",
       "      <td>[]</td>\n",
       "    </tr>\n",
       "    <tr>\n",
       "      <th>10</th>\n",
       "      <td>warning</td>\n",
       "      <td>Unrecognized column active</td>\n",
       "      <td>stops</td>\n",
       "      <td>[]</td>\n",
       "    </tr>\n",
       "    <tr>\n",
       "      <th>11</th>\n",
       "      <td>warning</td>\n",
       "      <td>Stop has no stop times</td>\n",
       "      <td>stops</td>\n",
       "      <td>[1, 2, 13, 14, 31, 32, 48, 49, 60, 74, 75, 77,...</td>\n",
       "    </tr>\n",
       "    <tr>\n",
       "      <th>13</th>\n",
       "      <td>warning</td>\n",
       "      <td>Unrecognized column old_route_id</td>\n",
       "      <td>trips</td>\n",
       "      <td>[]</td>\n",
       "    </tr>\n",
       "    <tr>\n",
       "      <th>14</th>\n",
       "      <td>warning</td>\n",
       "      <td>Unrecognized column old_trip_id</td>\n",
       "      <td>trips</td>\n",
       "      <td>[]</td>\n",
       "    </tr>\n",
       "    <tr>\n",
       "      <th>15</th>\n",
       "      <td>warning</td>\n",
       "      <td>Unrecognized column direction_id_sigmob</td>\n",
       "      <td>trips</td>\n",
       "      <td>[]</td>\n",
       "    </tr>\n",
       "    <tr>\n",
       "      <th>16</th>\n",
       "      <td>warning</td>\n",
       "      <td>Unrecognized column old_shape_id</td>\n",
       "      <td>trips</td>\n",
       "      <td>[]</td>\n",
       "    </tr>\n",
       "    <tr>\n",
       "      <th>17</th>\n",
       "      <td>warning</td>\n",
       "      <td>Trip has no stop times</td>\n",
       "      <td>trips</td>\n",
       "      <td>[74]</td>\n",
       "    </tr>\n",
       "  </tbody>\n",
       "</table>\n",
       "</div>"
      ],
      "text/plain": [
       "       type                                    message        table  \\\n",
       "2     error  Headway periods for the same trip overlap  frequencies   \n",
       "3     error  Headway periods for the same trip overlap  frequencies   \n",
       "4     error  Headway periods for the same trip overlap  frequencies   \n",
       "5     error  Headway periods for the same trip overlap  frequencies   \n",
       "0   warning            Unrecognized column old_trip_id  frequencies   \n",
       "1   warning               Unrecognized column calendar  frequencies   \n",
       "6   warning           Unrecognized column old_route_id       routes   \n",
       "7   warning       Unrecognized column old_old_shape_id       shapes   \n",
       "8   warning           Unrecognized column old_shape_id       shapes   \n",
       "12  warning    Repeated pair (trip_id, departure_time)   stop_times   \n",
       "9   warning               Unrecognized column corridor        stops   \n",
       "10  warning                 Unrecognized column active        stops   \n",
       "11  warning                     Stop has no stop times        stops   \n",
       "13  warning           Unrecognized column old_route_id        trips   \n",
       "14  warning            Unrecognized column old_trip_id        trips   \n",
       "15  warning    Unrecognized column direction_id_sigmob        trips   \n",
       "16  warning           Unrecognized column old_shape_id        trips   \n",
       "17  warning                     Trip has no stop times        trips   \n",
       "\n",
       "                                                 rows  \n",
       "2                                                 [4]  \n",
       "3                                                 [0]  \n",
       "4                                                 [0]  \n",
       "5                                                 [0]  \n",
       "0                                                  []  \n",
       "1                                                  []  \n",
       "6                                                  []  \n",
       "7                                                  []  \n",
       "8                                                  []  \n",
       "12  [1305, 1306, 1307, 1308, 1309, 1310, 1311, 131...  \n",
       "9                                                  []  \n",
       "10                                                 []  \n",
       "11  [1, 2, 13, 14, 31, 32, 48, 49, 60, 74, 75, 77,...  \n",
       "13                                                 []  \n",
       "14                                                 []  \n",
       "15                                                 []  \n",
       "16                                                 []  \n",
       "17                                               [74]  "
      ]
     },
     "execution_count": 338,
     "metadata": {},
     "output_type": "execute_result"
    }
   ],
   "source": [
    "feed.validate()"
   ]
  },
  {
   "cell_type": "code",
   "execution_count": 339,
   "metadata": {
    "ExecuteTime": {
     "end_time": "2021-06-02T17:43:21.028989Z",
     "start_time": "2021-06-02T17:43:20.365621Z"
    },
    "collapsed": true
   },
   "outputs": [],
   "source": [
    "feed.write('../data/output/gtfs_brt.zip')"
   ]
  },
  {
   "cell_type": "code",
   "execution_count": 340,
   "metadata": {
    "ExecuteTime": {
     "end_time": "2021-06-02T17:43:22.979193Z",
     "start_time": "2021-06-02T17:43:22.785155Z"
    }
   },
   "outputs": [
    {
     "data": {
      "text/html": [
       "<div>\n",
       "<style scoped>\n",
       "    .dataframe tbody tr th:only-of-type {\n",
       "        vertical-align: middle;\n",
       "    }\n",
       "\n",
       "    .dataframe tbody tr th {\n",
       "        vertical-align: top;\n",
       "    }\n",
       "\n",
       "    .dataframe thead th {\n",
       "        text-align: right;\n",
       "    }\n",
       "</style>\n",
       "<table border=\"1\" class=\"dataframe\">\n",
       "  <thead>\n",
       "    <tr style=\"text-align: right;\">\n",
       "      <th></th>\n",
       "      <th>trip_id</th>\n",
       "      <th>arrival_time</th>\n",
       "      <th>departure_time</th>\n",
       "      <th>stop_id</th>\n",
       "      <th>stop_sequence</th>\n",
       "    </tr>\n",
       "  </thead>\n",
       "  <tbody>\n",
       "    <tr>\n",
       "      <th>1490</th>\n",
       "      <td>200053A113012101</td>\n",
       "      <td>01:00:00</td>\n",
       "      <td>01:00:00</td>\n",
       "      <td>533135204000191</td>\n",
       "      <td>0</td>\n",
       "    </tr>\n",
       "    <tr>\n",
       "      <th>1491</th>\n",
       "      <td>200053A113012101</td>\n",
       "      <td>01:04:14</td>\n",
       "      <td>01:04:14</td>\n",
       "      <td>533137204000172</td>\n",
       "      <td>1</td>\n",
       "    </tr>\n",
       "    <tr>\n",
       "      <th>1492</th>\n",
       "      <td>200053A113012101</td>\n",
       "      <td>01:10:12</td>\n",
       "      <td>01:10:12</td>\n",
       "      <td>416115204000172</td>\n",
       "      <td>3</td>\n",
       "    </tr>\n",
       "    <tr>\n",
       "      <th>1493</th>\n",
       "      <td>200053A113012101</td>\n",
       "      <td>01:14:17</td>\n",
       "      <td>01:14:17</td>\n",
       "      <td>424128203000472</td>\n",
       "      <td>4</td>\n",
       "    </tr>\n",
       "    <tr>\n",
       "      <th>1494</th>\n",
       "      <td>200053A113012101</td>\n",
       "      <td>01:33:47</td>\n",
       "      <td>01:33:47</td>\n",
       "      <td>424128203000372</td>\n",
       "      <td>5</td>\n",
       "    </tr>\n",
       "    <tr>\n",
       "      <th>1495</th>\n",
       "      <td>200053A113012101</td>\n",
       "      <td>01:35:00</td>\n",
       "      <td>01:35:00</td>\n",
       "      <td>424128201001092</td>\n",
       "      <td>6</td>\n",
       "    </tr>\n",
       "  </tbody>\n",
       "</table>\n",
       "</div>"
      ],
      "text/plain": [
       "               trip_id arrival_time departure_time          stop_id  \\\n",
       "1490  200053A113012101     01:00:00       01:00:00  533135204000191   \n",
       "1491  200053A113012101     01:04:14       01:04:14  533137204000172   \n",
       "1492  200053A113012101     01:10:12       01:10:12  416115204000172   \n",
       "1493  200053A113012101     01:14:17       01:14:17  424128203000472   \n",
       "1494  200053A113012101     01:33:47       01:33:47  424128203000372   \n",
       "1495  200053A113012101     01:35:00       01:35:00  424128201001092   \n",
       "\n",
       "      stop_sequence  \n",
       "1490              0  \n",
       "1491              1  \n",
       "1492              3  \n",
       "1493              4  \n",
       "1494              5  \n",
       "1495              6  "
      ]
     },
     "execution_count": 340,
     "metadata": {},
     "output_type": "execute_result"
    }
   ],
   "source": [
    "feed.stop_times.query('trip_id == \"200053A113012101\"')"
   ]
  },
  {
   "cell_type": "code",
   "execution_count": 313,
   "metadata": {
    "ExecuteTime": {
     "end_time": "2021-06-02T17:38:46.700964Z",
     "start_time": "2021-06-02T17:38:46.579646Z"
    }
   },
   "outputs": [
    {
     "data": {
      "text/html": [
       "<div>\n",
       "<style scoped>\n",
       "    .dataframe tbody tr th:only-of-type {\n",
       "        vertical-align: middle;\n",
       "    }\n",
       "\n",
       "    .dataframe tbody tr th {\n",
       "        vertical-align: top;\n",
       "    }\n",
       "\n",
       "    .dataframe thead th {\n",
       "        text-align: right;\n",
       "    }\n",
       "</style>\n",
       "<table border=\"1\" class=\"dataframe\">\n",
       "  <thead>\n",
       "    <tr style=\"text-align: right;\">\n",
       "      <th></th>\n",
       "      <th>trip_id</th>\n",
       "      <th>stop_id</th>\n",
       "      <th>stop_sequence</th>\n",
       "      <th>departure_time</th>\n",
       "      <th>arrival_time</th>\n",
       "      <th>shape_dist_traveled</th>\n",
       "      <th>tempo_ciclo</th>\n",
       "      <th>norm_dist</th>\n",
       "      <th>time_btw_stops</th>\n",
       "    </tr>\n",
       "  </thead>\n",
       "  <tbody>\n",
       "    <tr>\n",
       "      <th>1529</th>\n",
       "      <td>200053A113012101</td>\n",
       "      <td>533135204000191</td>\n",
       "      <td>0</td>\n",
       "      <td>NaN</td>\n",
       "      <td>NaN</td>\n",
       "      <td>0.036793</td>\n",
       "      <td>70</td>\n",
       "      <td>0.001964</td>\n",
       "      <td>0.068751</td>\n",
       "    </tr>\n",
       "    <tr>\n",
       "      <th>1530</th>\n",
       "      <td>200053A113012101</td>\n",
       "      <td>533137204000172</td>\n",
       "      <td>1</td>\n",
       "      <td>NaN</td>\n",
       "      <td>NaN</td>\n",
       "      <td>2.266674</td>\n",
       "      <td>70</td>\n",
       "      <td>0.121014</td>\n",
       "      <td>4.235492</td>\n",
       "    </tr>\n",
       "    <tr>\n",
       "      <th>1531</th>\n",
       "      <td>200053A113012101</td>\n",
       "      <td>416115204000172</td>\n",
       "      <td>3</td>\n",
       "      <td>NaN</td>\n",
       "      <td>NaN</td>\n",
       "      <td>5.462495</td>\n",
       "      <td>70</td>\n",
       "      <td>0.291634</td>\n",
       "      <td>10.207185</td>\n",
       "    </tr>\n",
       "    <tr>\n",
       "      <th>1532</th>\n",
       "      <td>200053A113012101</td>\n",
       "      <td>424128203000472</td>\n",
       "      <td>4</td>\n",
       "      <td>NaN</td>\n",
       "      <td>NaN</td>\n",
       "      <td>7.650588</td>\n",
       "      <td>70</td>\n",
       "      <td>0.408453</td>\n",
       "      <td>14.295841</td>\n",
       "    </tr>\n",
       "    <tr>\n",
       "      <th>1533</th>\n",
       "      <td>200053A113012101</td>\n",
       "      <td>424128203000372</td>\n",
       "      <td>5</td>\n",
       "      <td>NaN</td>\n",
       "      <td>NaN</td>\n",
       "      <td>18.088129</td>\n",
       "      <td>70</td>\n",
       "      <td>0.965696</td>\n",
       "      <td>33.799367</td>\n",
       "    </tr>\n",
       "    <tr>\n",
       "      <th>1534</th>\n",
       "      <td>200053A113012101</td>\n",
       "      <td>424128201001092</td>\n",
       "      <td>6</td>\n",
       "      <td>NaN</td>\n",
       "      <td>NaN</td>\n",
       "      <td>18.730662</td>\n",
       "      <td>70</td>\n",
       "      <td>1.000000</td>\n",
       "      <td>35.000000</td>\n",
       "    </tr>\n",
       "  </tbody>\n",
       "</table>\n",
       "</div>"
      ],
      "text/plain": [
       "               trip_id          stop_id  stop_sequence departure_time  \\\n",
       "1529  200053A113012101  533135204000191              0            NaN   \n",
       "1530  200053A113012101  533137204000172              1            NaN   \n",
       "1531  200053A113012101  416115204000172              3            NaN   \n",
       "1532  200053A113012101  424128203000472              4            NaN   \n",
       "1533  200053A113012101  424128203000372              5            NaN   \n",
       "1534  200053A113012101  424128201001092              6            NaN   \n",
       "\n",
       "     arrival_time  shape_dist_traveled  tempo_ciclo  norm_dist  time_btw_stops  \n",
       "1529          NaN             0.036793           70   0.001964        0.068751  \n",
       "1530          NaN             2.266674           70   0.121014        4.235492  \n",
       "1531          NaN             5.462495           70   0.291634       10.207185  \n",
       "1532          NaN             7.650588           70   0.408453       14.295841  \n",
       "1533          NaN            18.088129           70   0.965696       33.799367  \n",
       "1534          NaN            18.730662           70   1.000000       35.000000  "
      ]
     },
     "execution_count": 313,
     "metadata": {},
     "output_type": "execute_result"
    }
   ],
   "source": [
    "stop_times.query('trip_id == \"200053A113012101\"')"
   ]
  },
  {
   "cell_type": "code",
   "execution_count": null,
   "metadata": {
    "collapsed": true
   },
   "outputs": [],
   "source": []
  }
 ],
 "metadata": {
  "kernelspec": {
   "display_name": "rGTFS",
   "language": "python",
   "name": "rgtfs"
  },
  "language_info": {
   "codemirror_mode": {
    "name": "ipython",
    "version": 3
   },
   "file_extension": ".py",
   "mimetype": "text/x-python",
   "name": "python",
   "nbconvert_exporter": "python",
   "pygments_lexer": "ipython3",
   "version": "3.9.2"
  },
  "toc": {
   "nav_menu": {},
   "number_sections": true,
   "sideBar": true,
   "skip_h1_title": false,
   "toc_cell": true,
   "toc_position": {},
   "toc_section_display": "block",
   "toc_window_display": false
  },
  "varInspector": {
   "cols": {
    "lenName": 16,
    "lenType": 16,
    "lenVar": 40
   },
   "kernels_config": {
    "python": {
     "delete_cmd_postfix": "",
     "delete_cmd_prefix": "del ",
     "library": "var_list.py",
     "varRefreshCmd": "print(var_dic_list())"
    },
    "r": {
     "delete_cmd_postfix": ") ",
     "delete_cmd_prefix": "rm(",
     "library": "var_list.r",
     "varRefreshCmd": "cat(var_dic_list()) "
    }
   },
   "types_to_exclude": [
    "module",
    "function",
    "builtin_function_or_method",
    "instance",
    "_Feature"
   ],
   "window_display": false
  }
 },
 "nbformat": 4,
 "nbformat_minor": 5
}
