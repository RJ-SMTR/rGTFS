{
 "cells": [
  {
   "cell_type": "markdown",
   "metadata": {
    "toc": true
   },
   "source": [
    "<h1>Table of Contents<span class=\"tocSkip\"></span></h1>\n",
    "<div class=\"toc\" style=\"margin-top: 1em;\"><ul class=\"toc-item\"></ul></div>"
   ]
  },
  {
   "cell_type": "code",
   "execution_count": 1,
   "metadata": {
    "ExecuteTime": {
     "end_time": "2021-05-24T13:44:57.033608Z",
     "start_time": "2021-05-24T13:44:55.833536Z"
    },
    "collapsed": true
   },
   "outputs": [],
   "source": [
    "import requests\n",
    "import json\n",
    "import pandas as pd"
   ]
  },
  {
   "cell_type": "code",
   "execution_count": 7,
   "metadata": {
    "ExecuteTime": {
     "end_time": "2021-05-24T13:46:10.885009Z",
     "start_time": "2021-05-24T13:46:10.816532Z"
    }
   },
   "outputs": [],
   "source": [
    "routes = json.load(open('../data/raw/moovit_routes.json', 'r'))"
   ]
  },
  {
   "cell_type": "code",
   "execution_count": 12,
   "metadata": {
    "ExecuteTime": {
     "end_time": "2021-05-24T13:48:25.702556Z",
     "start_time": "2021-05-24T13:48:25.642945Z"
    }
   },
   "outputs": [],
   "source": [
    "routes = pd.DataFrame(routes['routes'])"
   ]
  },
  {
   "cell_type": "code",
   "execution_count": 21,
   "metadata": {
    "ExecuteTime": {
     "end_time": "2021-05-24T13:52:21.504655Z",
     "start_time": "2021-05-24T13:52:21.495223Z"
    },
    "collapsed": true
   },
   "outputs": [],
   "source": [
    "agencias = pd.DataFrame(json.load(open('../data/raw/moovit_agencias.json', 'r')))"
   ]
  },
  {
   "cell_type": "code",
   "execution_count": 15,
   "metadata": {
    "ExecuteTime": {
     "end_time": "2021-05-24T13:48:54.927270Z",
     "start_time": "2021-05-24T13:48:54.919600Z"
    }
   },
   "outputs": [],
   "source": [
    "empresas = pd.read_csv('../data/raw/empresas_moovit.csv', encoding='latin1')"
   ]
  },
  {
   "cell_type": "code",
   "execution_count": 25,
   "metadata": {
    "ExecuteTime": {
     "end_time": "2021-05-24T13:53:33.561646Z",
     "start_time": "2021-05-24T13:53:33.553777Z"
    }
   },
   "outputs": [],
   "source": [
    "sel_agencias = pd.merge(agencias, empresas, left_on='agencyName', right_on='empresas_moovit')"
   ]
  },
  {
   "cell_type": "code",
   "execution_count": 30,
   "metadata": {
    "ExecuteTime": {
     "end_time": "2021-05-24T13:55:00.665120Z",
     "start_time": "2021-05-24T13:55:00.658535Z"
    },
    "scrolled": true
   },
   "outputs": [],
   "source": [
    "sel_routes = routes[routes['agencyId'].isin(sel_agencias['agencyId'])]"
   ]
  },
  {
   "cell_type": "code",
   "execution_count": 54,
   "metadata": {
    "ExecuteTime": {
     "end_time": "2021-05-24T14:13:06.306951Z",
     "start_time": "2021-05-24T14:13:06.300637Z"
    },
    "collapsed": true
   },
   "outputs": [],
   "source": [
    "def get_trips(route_id):\n",
    "    \n",
    "    url = f\"https://editor.moovit.com/web/routes/{route_id}/trips\"\n",
    "\n",
    "    headers = {\n",
    "        'host': \"editor.moovit.com\",\n",
    "        'connection': \"keep-alive\",\n",
    "        'accept': \"application/json, text/plain, */*\",\n",
    "        'user-agent': \"Mozilla/5.0 (Macintosh; Intel Mac OS X 10_14_2) AppleWebKit/537.36 (KHTML, like Gecko) Chrome/89.0.4389.86 Safari/537.36\",\n",
    "        'sec-gpc': \"1\",\n",
    "        'sec-fetch-site': \"same-origin\",\n",
    "        'sec-fetch-mode': \"cors\",\n",
    "        'sec-fetch-dest': \"empty\",\n",
    "        'referer': \"https://editor.moovit.com/web/routes/19692\",\n",
    "        'accept-encoding': \"gzip, deflate, br\",\n",
    "        'accept-language': \"en-GB,en-US;q=0.9,en;q=0.8\",\n",
    "        'cookie': \"cookieconsent_status=dismiss; EDITORSESSIONID=Bp5CKqRGp5ZxrOrER0DRKJmD.undefined; JSESSIONIDSSO=sgKs7crBsVSLH+lknszk7Gme\",\n",
    "        'cache-control': \"no-cache\",\n",
    "        'postman-token': \"cc57a4c1-77f6-1d65-b5d5-f0939ff0bca9\"\n",
    "        }\n",
    "    response = requests.request(\"GET\", url, headers=headers)\n",
    "    \n",
    "    if response.ok:\n",
    "        json.dump(response.json(), open(f'../data/raw/moovit_trips/{route_id}.json', 'w'))\n",
    "    else:\n",
    "        print(f'FAILED: {route_id}')"
   ]
  },
  {
   "cell_type": "code",
   "execution_count": 49,
   "metadata": {
    "ExecuteTime": {
     "end_time": "2021-05-24T14:08:21.727374Z",
     "start_time": "2021-05-24T14:08:21.718667Z"
    },
    "collapsed": true
   },
   "outputs": [],
   "source": [
    "import requests\n",
    "\n",
    "\n",
    "def fecth_and_save_stops(trip_id):\n",
    "    \n",
    "    url = f\"https://editor.moovit.com/web/trips/mobile-mappings/{trip_id}\"\n",
    "\n",
    "    headers = {\n",
    "        'host': \"editor.moovit.com\",\n",
    "        'connection': \"keep-alive\",\n",
    "        'accept': \"application/json, text/plain, */*\",\n",
    "        'user-agent': \"Mozilla/5.0 (Macintosh; Intel Mac OS X 10_14_2) AppleWebKit/537.36 (KHTML, like Gecko) Chrome/89.0.4389.86 Safari/537.36\",\n",
    "        'sec-gpc': \"1\",\n",
    "        'sec-fetch-site': \"same-origin\",\n",
    "        'sec-fetch-mode': \"cors\",\n",
    "        'sec-fetch-dest': \"empty\",\n",
    "        'referer': \"https://editor.moovit.com/web/trips/31699\",\n",
    "        'accept-encoding': \"gzip, deflate, br\",\n",
    "        'accept-language': \"en-GB,en-US;q=0.9,en;q=0.8\",\n",
    "        'cookie': \"cookieconsent_status=dismiss; EDITORSESSIONID=Bp5CKqRGp5ZxrOrER0DRKJmD.undefined; JSESSIONIDSSO=sgKs7crBsVSLH+lknszk7Gme\",\n",
    "        'cache-control': \"no-cache\",\n",
    "        'postman-token': \"c19ef460-5f4d-0936-1225-18569ee1f312\"\n",
    "        }\n",
    "\n",
    "    response = requests.request(\"GET\", url, headers=headers)\n",
    "    \n",
    "    if response.ok:\n",
    "        json.dump(response.json(), open(f'../data/raw/moovit_stops/{trip_id}.json', 'w'))\n",
    "    else:\n",
    "        print(f'FAILED: {trip_id}')"
   ]
  },
  {
   "cell_type": "code",
   "execution_count": 52,
   "metadata": {
    "ExecuteTime": {
     "end_time": "2021-05-24T14:12:46.539643Z",
     "start_time": "2021-05-24T14:12:46.516706Z"
    }
   },
   "outputs": [
    {
     "data": {
      "text/html": [
       "<div>\n",
       "<style scoped>\n",
       "    .dataframe tbody tr th:only-of-type {\n",
       "        vertical-align: middle;\n",
       "    }\n",
       "\n",
       "    .dataframe tbody tr th {\n",
       "        vertical-align: top;\n",
       "    }\n",
       "\n",
       "    .dataframe thead th {\n",
       "        text-align: right;\n",
       "    }\n",
       "</style>\n",
       "<table border=\"1\" class=\"dataframe\">\n",
       "  <thead>\n",
       "    <tr style=\"text-align: right;\">\n",
       "      <th></th>\n",
       "      <th>routeColor</th>\n",
       "      <th>export</th>\n",
       "      <th>mappedTrips</th>\n",
       "      <th>trips</th>\n",
       "      <th>routeLongName</th>\n",
       "      <th>lastUpdate</th>\n",
       "      <th>routeTextColor</th>\n",
       "      <th>userEmail</th>\n",
       "      <th>routeId</th>\n",
       "      <th>agencyId</th>\n",
       "      <th>agencyFeedId</th>\n",
       "      <th>feedId</th>\n",
       "      <th>routeType</th>\n",
       "      <th>departuresPercentage</th>\n",
       "      <th>mappedPercentage</th>\n",
       "      <th>name</th>\n",
       "      <th>routeShortName</th>\n",
       "      <th>departureTrips</th>\n",
       "      <th>userName</th>\n",
       "    </tr>\n",
       "  </thead>\n",
       "  <tbody>\n",
       "    <tr>\n",
       "      <th>242</th>\n",
       "      <td>#009bff</td>\n",
       "      <td>True</td>\n",
       "      <td>2</td>\n",
       "      <td>2</td>\n",
       "      <td>Silvestre - Castelo (BRS 1)</td>\n",
       "      <td>1597885096000</td>\n",
       "      <td>#FFFFFF</td>\n",
       "      <td>6b8250244cb1fb7fea033557a658a944</td>\n",
       "      <td>19650</td>\n",
       "      <td>50008</td>\n",
       "      <td>None</td>\n",
       "      <td>None</td>\n",
       "      <td>3</td>\n",
       "      <td>100</td>\n",
       "      <td>100</td>\n",
       "      <td>Gabriel Petersen Gomes</td>\n",
       "      <td>006</td>\n",
       "      <td>2</td>\n",
       "      <td>Gabriel Petersen Gomes</td>\n",
       "    </tr>\n",
       "    <tr>\n",
       "      <th>243</th>\n",
       "      <td>#009bff</td>\n",
       "      <td>False</td>\n",
       "      <td>2</td>\n",
       "      <td>2</td>\n",
       "      <td>Silvestre - Central (via Largo das Neves / Lar...</td>\n",
       "      <td>1597889692000</td>\n",
       "      <td>#FFFFFF</td>\n",
       "      <td>6b8250244cb1fb7fea033557a658a944</td>\n",
       "      <td>795295</td>\n",
       "      <td>50008</td>\n",
       "      <td>None</td>\n",
       "      <td>None</td>\n",
       "      <td>3</td>\n",
       "      <td>100</td>\n",
       "      <td>100</td>\n",
       "      <td>Gabriel Petersen Gomes</td>\n",
       "      <td>006SN</td>\n",
       "      <td>2</td>\n",
       "      <td>Gabriel Petersen Gomes</td>\n",
       "    </tr>\n",
       "    <tr>\n",
       "      <th>245</th>\n",
       "      <td>#009bff</td>\n",
       "      <td>True</td>\n",
       "      <td>3</td>\n",
       "      <td>3</td>\n",
       "      <td>Silvestre - Central (BRS 1)</td>\n",
       "      <td>1606484688000</td>\n",
       "      <td>#FFFFFF</td>\n",
       "      <td>6b8250244cb1fb7fea033557a658a944</td>\n",
       "      <td>19691</td>\n",
       "      <td>50008</td>\n",
       "      <td>None</td>\n",
       "      <td>None</td>\n",
       "      <td>3</td>\n",
       "      <td>100</td>\n",
       "      <td>100</td>\n",
       "      <td>Gabriel Petersen Gomes</td>\n",
       "      <td>007</td>\n",
       "      <td>3</td>\n",
       "      <td>Gabriel Petersen Gomes</td>\n",
       "    </tr>\n",
       "    <tr>\n",
       "      <th>255</th>\n",
       "      <td>#009bff</td>\n",
       "      <td>False</td>\n",
       "      <td>4</td>\n",
       "      <td>4</td>\n",
       "      <td>Bairro de Fátima - Central (BRS 1)</td>\n",
       "      <td>1616259049000</td>\n",
       "      <td>#FFFFFF</td>\n",
       "      <td>6b8250244cb1fb7fea033557a658a944</td>\n",
       "      <td>19278</td>\n",
       "      <td>50008</td>\n",
       "      <td>None</td>\n",
       "      <td>None</td>\n",
       "      <td>3</td>\n",
       "      <td>100</td>\n",
       "      <td>100</td>\n",
       "      <td>Gabriel Petersen Gomes</td>\n",
       "      <td>010</td>\n",
       "      <td>4</td>\n",
       "      <td>Gabriel Petersen Gomes</td>\n",
       "    </tr>\n",
       "    <tr>\n",
       "      <th>260</th>\n",
       "      <td>#009bff</td>\n",
       "      <td>True</td>\n",
       "      <td>2</td>\n",
       "      <td>2</td>\n",
       "      <td>Paula Matos - Castelo (BRS 1)</td>\n",
       "      <td>1597885197000</td>\n",
       "      <td>#FFFFFF</td>\n",
       "      <td>6b8250244cb1fb7fea033557a658a944</td>\n",
       "      <td>19314</td>\n",
       "      <td>50008</td>\n",
       "      <td>None</td>\n",
       "      <td>None</td>\n",
       "      <td>3</td>\n",
       "      <td>100</td>\n",
       "      <td>100</td>\n",
       "      <td>Gabriel Petersen Gomes</td>\n",
       "      <td>014</td>\n",
       "      <td>2</td>\n",
       "      <td>Gabriel Petersen Gomes</td>\n",
       "    </tr>\n",
       "  </tbody>\n",
       "</table>\n",
       "</div>"
      ],
      "text/plain": [
       "    routeColor  export  mappedTrips  trips  \\\n",
       "242    #009bff    True            2      2   \n",
       "243    #009bff   False            2      2   \n",
       "245    #009bff    True            3      3   \n",
       "255    #009bff   False            4      4   \n",
       "260    #009bff    True            2      2   \n",
       "\n",
       "                                         routeLongName     lastUpdate  \\\n",
       "242                        Silvestre - Castelo (BRS 1)  1597885096000   \n",
       "243  Silvestre - Central (via Largo das Neves / Lar...  1597889692000   \n",
       "245                        Silvestre - Central (BRS 1)  1606484688000   \n",
       "255                 Bairro de Fátima - Central (BRS 1)  1616259049000   \n",
       "260                      Paula Matos - Castelo (BRS 1)  1597885197000   \n",
       "\n",
       "    routeTextColor                         userEmail  routeId  agencyId  \\\n",
       "242        #FFFFFF  6b8250244cb1fb7fea033557a658a944    19650     50008   \n",
       "243        #FFFFFF  6b8250244cb1fb7fea033557a658a944   795295     50008   \n",
       "245        #FFFFFF  6b8250244cb1fb7fea033557a658a944    19691     50008   \n",
       "255        #FFFFFF  6b8250244cb1fb7fea033557a658a944    19278     50008   \n",
       "260        #FFFFFF  6b8250244cb1fb7fea033557a658a944    19314     50008   \n",
       "\n",
       "    agencyFeedId feedId  routeType  departuresPercentage  mappedPercentage  \\\n",
       "242         None   None          3                   100               100   \n",
       "243         None   None          3                   100               100   \n",
       "245         None   None          3                   100               100   \n",
       "255         None   None          3                   100               100   \n",
       "260         None   None          3                   100               100   \n",
       "\n",
       "                       name routeShortName  departureTrips  \\\n",
       "242  Gabriel Petersen Gomes            006               2   \n",
       "243  Gabriel Petersen Gomes          006SN               2   \n",
       "245  Gabriel Petersen Gomes            007               3   \n",
       "255  Gabriel Petersen Gomes            010               4   \n",
       "260  Gabriel Petersen Gomes            014               2   \n",
       "\n",
       "                   userName  \n",
       "242  Gabriel Petersen Gomes  \n",
       "243  Gabriel Petersen Gomes  \n",
       "245  Gabriel Petersen Gomes  \n",
       "255  Gabriel Petersen Gomes  \n",
       "260  Gabriel Petersen Gomes  "
      ]
     },
     "execution_count": 52,
     "metadata": {},
     "output_type": "execute_result"
    }
   ],
   "source": [
    "sel_routes.head()"
   ]
  },
  {
   "cell_type": "code",
   "execution_count": 57,
   "metadata": {
    "ExecuteTime": {
     "end_time": "2021-05-24T14:26:50.487233Z",
     "start_time": "2021-05-24T14:14:45.190787Z"
    }
   },
   "outputs": [
    {
     "name": "stderr",
     "output_type": "stream",
     "text": [
      "100%|██████████| 508/508 [12:05<00:00,  1.43s/it]\n"
     ]
    }
   ],
   "source": [
    "import time\n",
    "import tqdm\n",
    "for route_id in tqdm.tqdm(sel_routes['routeId'].unique()):\n",
    "    get_trips(route_id)\n",
    "    time.sleep(1)"
   ]
  },
  {
   "cell_type": "code",
   "execution_count": 58,
   "metadata": {
    "ExecuteTime": {
     "end_time": "2021-05-24T14:27:28.192444Z",
     "start_time": "2021-05-24T14:27:28.188660Z"
    },
    "collapsed": true
   },
   "outputs": [],
   "source": [
    "from pathlib import Path"
   ]
  },
  {
   "cell_type": "code",
   "execution_count": 60,
   "metadata": {
    "ExecuteTime": {
     "end_time": "2021-05-24T14:28:16.900839Z",
     "start_time": "2021-05-24T14:28:16.522093Z"
    }
   },
   "outputs": [],
   "source": [
    "trips = [json.load(open(p)) for p in Path('../data/raw/moovit_trips/').glob('*')]"
   ]
  },
  {
   "cell_type": "code",
   "execution_count": 63,
   "metadata": {
    "ExecuteTime": {
     "end_time": "2021-05-24T14:28:57.229231Z",
     "start_time": "2021-05-24T14:28:57.225207Z"
    }
   },
   "outputs": [],
   "source": [
    "flatten = lambda t: [item for sublist in t for item in sublist]\n",
    "trips = flatten(trips)"
   ]
  },
  {
   "cell_type": "code",
   "execution_count": 65,
   "metadata": {
    "ExecuteTime": {
     "end_time": "2021-05-24T14:29:13.195722Z",
     "start_time": "2021-05-24T14:29:13.184056Z"
    }
   },
   "outputs": [],
   "source": [
    "trips = pd.DataFrame(trips)"
   ]
  },
  {
   "cell_type": "code",
   "execution_count": 67,
   "metadata": {
    "ExecuteTime": {
     "end_time": "2021-05-24T14:30:03.035994Z",
     "start_time": "2021-05-24T14:30:03.030536Z"
    }
   },
   "outputs": [
    {
     "data": {
      "text/plain": [
       "1168"
      ]
     },
     "execution_count": 67,
     "metadata": {},
     "output_type": "execute_result"
    }
   ],
   "source": [
    "len(trips)"
   ]
  },
  {
   "cell_type": "code",
   "execution_count": 70,
   "metadata": {
    "ExecuteTime": {
     "end_time": "2021-05-24T14:49:08.971430Z",
     "start_time": "2021-05-24T14:30:41.321777Z"
    }
   },
   "outputs": [
    {
     "name": "stderr",
     "output_type": "stream",
     "text": [
      "100%|██████████| 1168/1168 [18:27<00:00,  1.05it/s]\n"
     ]
    }
   ],
   "source": [
    "for trip_id in tqdm.tqdm(trips['tripId'].unique()):\n",
    "    fecth_and_save_stops(trip_id)\n",
    "    time.sleep(0.5)"
   ]
  },
  {
   "cell_type": "code",
   "execution_count": 48,
   "metadata": {
    "ExecuteTime": {
     "end_time": "2021-05-24T14:08:12.723300Z",
     "start_time": "2021-05-24T14:08:12.490912Z"
    },
    "collapsed": true
   },
   "outputs": [],
   "source": [
    "!ls ../data/raw/moovit_stops/"
   ]
  },
  {
   "cell_type": "code",
   "execution_count": 71,
   "metadata": {
    "ExecuteTime": {
     "end_time": "2021-05-24T15:03:30.687957Z",
     "start_time": "2021-05-24T15:03:28.522522Z"
    },
    "collapsed": true
   },
   "outputs": [],
   "source": [
    "stops = [json.load(open(p)) for p in Path('../data/raw/moovit_stops/').glob('*')]"
   ]
  },
  {
   "cell_type": "code",
   "execution_count": 73,
   "metadata": {
    "ExecuteTime": {
     "end_time": "2021-05-24T15:04:01.852588Z",
     "start_time": "2021-05-24T15:04:01.846706Z"
    }
   },
   "outputs": [],
   "source": [
    "stops = flatten(stops)"
   ]
  },
  {
   "cell_type": "code",
   "execution_count": 97,
   "metadata": {
    "ExecuteTime": {
     "end_time": "2021-05-24T15:09:09.985771Z",
     "start_time": "2021-05-24T15:09:09.967040Z"
    }
   },
   "outputs": [],
   "source": [
    "fstops = flatten([s['content']['stops'] for s in stops])"
   ]
  },
  {
   "cell_type": "code",
   "execution_count": 98,
   "metadata": {
    "ExecuteTime": {
     "end_time": "2021-05-24T15:09:10.923309Z",
     "start_time": "2021-05-24T15:09:10.835814Z"
    }
   },
   "outputs": [],
   "source": [
    "fstops = pd.DataFrame(fstops)[['lat', 'lng', 'name']]"
   ]
  },
  {
   "cell_type": "code",
   "execution_count": 99,
   "metadata": {
    "ExecuteTime": {
     "end_time": "2021-05-24T15:09:14.062138Z",
     "start_time": "2021-05-24T15:09:13.999610Z"
    }
   },
   "outputs": [],
   "source": [
    "fstops['lat'] = fstops['lat'].apply(lambda x: round(x, 5))\n",
    "fstops['lng'] = fstops['lng'].apply(lambda x: round(x, 5))"
   ]
  },
  {
   "cell_type": "code",
   "execution_count": 101,
   "metadata": {
    "ExecuteTime": {
     "end_time": "2021-05-24T15:10:29.499782Z",
     "start_time": "2021-05-24T15:10:29.476934Z"
    }
   },
   "outputs": [],
   "source": [
    "fstops = fstops.drop_duplicates()"
   ]
  },
  {
   "cell_type": "code",
   "execution_count": 102,
   "metadata": {
    "ExecuteTime": {
     "end_time": "2021-05-24T15:10:44.503696Z",
     "start_time": "2021-05-24T15:10:44.318506Z"
    },
    "collapsed": true
   },
   "outputs": [],
   "source": [
    "fstops.to_csv('../data/output/moovit_paradas.csv')"
   ]
  },
  {
   "cell_type": "code",
   "execution_count": null,
   "metadata": {
    "collapsed": true
   },
   "outputs": [],
   "source": []
  }
 ],
 "metadata": {
  "kernelspec": {
   "display_name": "rGTFS",
   "language": "python",
   "name": "rgtfs"
  },
  "language_info": {
   "codemirror_mode": {
    "name": "ipython",
    "version": 3
   },
   "file_extension": ".py",
   "mimetype": "text/x-python",
   "name": "python",
   "nbconvert_exporter": "python",
   "pygments_lexer": "ipython3",
   "version": "3.9.2"
  },
  "toc": {
   "nav_menu": {},
   "number_sections": true,
   "sideBar": true,
   "skip_h1_title": false,
   "toc_cell": true,
   "toc_position": {},
   "toc_section_display": "block",
   "toc_window_display": false
  },
  "varInspector": {
   "cols": {
    "lenName": 16,
    "lenType": 16,
    "lenVar": 40
   },
   "kernels_config": {
    "python": {
     "delete_cmd_postfix": "",
     "delete_cmd_prefix": "del ",
     "library": "var_list.py",
     "varRefreshCmd": "print(var_dic_list())"
    },
    "r": {
     "delete_cmd_postfix": ") ",
     "delete_cmd_prefix": "rm(",
     "library": "var_list.r",
     "varRefreshCmd": "cat(var_dic_list()) "
    }
   },
   "types_to_exclude": [
    "module",
    "function",
    "builtin_function_or_method",
    "instance",
    "_Feature"
   ],
   "window_display": false
  }
 },
 "nbformat": 4,
 "nbformat_minor": 2
}
